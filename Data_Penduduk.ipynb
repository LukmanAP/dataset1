{
  "nbformat": 4,
  "nbformat_minor": 0,
  "metadata": {
    "colab": {
      "provenance": [],
      "authorship_tag": "ABX9TyNo/6yQj1GAN3na1a8Owdgp",
      "include_colab_link": true
    },
    "kernelspec": {
      "name": "python3",
      "display_name": "Python 3"
    },
    "language_info": {
      "name": "python"
    }
  },
  "cells": [
    {
      "cell_type": "markdown",
      "metadata": {
        "id": "view-in-github",
        "colab_type": "text"
      },
      "source": [
        "<a href=\"https://colab.research.google.com/github/LukmanAP/dataset1/blob/main/Data_Penduduk.ipynb\" target=\"_parent\"><img src=\"https://colab.research.google.com/assets/colab-badge.svg\" alt=\"Open In Colab\"/></a>"
      ]
    },
    {
      "cell_type": "code",
      "execution_count": null,
      "metadata": {
        "id": "VzXf1HYS8JZa"
      },
      "outputs": [],
      "source": [
        "import numpy as np\n",
        "import matplotlib.pyplot as plt\n",
        "import pandas as pd"
      ]
    },
    {
      "cell_type": "markdown",
      "source": [
        "Menambahkan Library seperti Numpy, Pandas dan Matplotlib.\n",
        "Matplotlib merupakan Library python unutk presentasi data berupa grafik atau plot."
      ],
      "metadata": {
        "id": "SOcMlvxHleQN"
      }
    },
    {
      "cell_type": "code",
      "source": [
        "dataset = pd.read_csv('Data Penduduk.csv')\n",
        "x = dataset.iloc[:, :-1].values\n",
        "y = dataset.iloc[:,-1].values"
      ],
      "metadata": {
        "id": "s8OcDkDolxaM"
      },
      "execution_count": 49,
      "outputs": []
    },
    {
      "cell_type": "markdown",
      "source": [
        "membuat Variabel x dan y\n",
        "\n",
        "\n",
        "*   Variabel x berisikan Colom kode, propinsi, tahun, kelamin\n",
        "*   Variabel y berisikan Colom jumlah\n",
        "\n"
      ],
      "metadata": {
        "id": "T9S9t1IPnQuY"
      }
    },
    {
      "cell_type": "code",
      "source": [
        "propinsi = dataset.iloc[:,1:2]\n",
        "\n",
        "from sklearn.compose import ColumnTransformer\n",
        "from sklearn.preprocessing import OneHotEncoder\n",
        "ct = ColumnTransformer(transformers=[('encoder', OneHotEncoder(), [0])], remainder='passthrough')\n",
        "propinsi = np.array(ct.fit_transform(propinsi))"
      ],
      "metadata": {
        "id": "Qi9euFqhoy5h"
      },
      "execution_count": null,
      "outputs": []
    },
    {
      "cell_type": "code",
      "source": [
        "print(propinsi)"
      ],
      "metadata": {
        "id": "dU6aJTjhqNwP"
      },
      "execution_count": null,
      "outputs": []
    },
    {
      "cell_type": "markdown",
      "source": [
        "mengencoding colom propinsi menjadi matrix"
      ],
      "metadata": {
        "id": "zDacjDIcxTnJ"
      }
    },
    {
      "cell_type": "code",
      "source": [
        "kelamin = dataset.iloc[:,3:4]\n",
        "from sklearn.preprocessing import LabelEncoder\n",
        "klmn = LabelEncoder()\n",
        "kelamin = klmn.fit_transform(kelamin)\n"
      ],
      "metadata": {
        "colab": {
          "base_uri": "https://localhost:8080/"
        },
        "id": "kcEpV0W0xQQy",
        "outputId": "73e0e449-7b58-4fa1-b9d5-ddb45f9b7da2"
      },
      "execution_count": 58,
      "outputs": [
        {
          "output_type": "stream",
          "name": "stderr",
          "text": [
            "/usr/local/lib/python3.9/dist-packages/sklearn/preprocessing/_label.py:116: DataConversionWarning: A column-vector y was passed when a 1d array was expected. Please change the shape of y to (n_samples, ), for example using ravel().\n",
            "  y = column_or_1d(y, warn=True)\n"
          ]
        }
      ]
    },
    {
      "cell_type": "code",
      "source": [
        "print(kelamin)"
      ],
      "metadata": {
        "id": "l0jCkTuXx9ic"
      },
      "execution_count": null,
      "outputs": []
    },
    {
      "cell_type": "markdown",
      "source": [
        "mengubah kolom kelamin menjadi 0 dan 1\n",
        "*   0 = Laki-laki\n",
        "*   1 = Perempuan\n",
        "\n"
      ],
      "metadata": {
        "id": "qRh2CeULylg4"
      }
    },
    {
      "cell_type": "code",
      "source": [
        "from sklearn.model_selection import train_test_split\n",
        "x_train, x_test, y_train, y_test = train_test_split(x, y, test_size=0.2, random_state=1 )\n",
        "                                                                              "
      ],
      "metadata": {
        "id": "PB5Nzxj3yd19"
      },
      "execution_count": 62,
      "outputs": []
    },
    {
      "cell_type": "code",
      "source": [
        "print(x_train)\n",
        "print(x_test)\n",
        "print(y_train)\n",
        "print(y_test)"
      ],
      "metadata": {
        "id": "w8EAK7AM12dz"
      },
      "execution_count": null,
      "outputs": []
    },
    {
      "cell_type": "markdown",
      "source": [
        "Membagi Dataset ke dalam training dan Testing dari variabel yang sudah kita tentukan sebelumnya. yaitu, variabel x dan variabel y"
      ],
      "metadata": {
        "id": "KpPdkY_I2VkS"
      }
    },
    {
      "cell_type": "code",
      "source": [],
      "metadata": {
        "id": "Cdcv6atc150T"
      },
      "execution_count": null,
      "outputs": []
    }
  ]
}