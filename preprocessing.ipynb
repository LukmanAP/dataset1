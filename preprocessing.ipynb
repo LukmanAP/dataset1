{
  "nbformat": 4,
  "nbformat_minor": 0,
  "metadata": {
    "colab": {
      "provenance": [],
      "authorship_tag": "ABX9TyPE2/qiPUgkZxEoAPr45CU+",
      "include_colab_link": true
    },
    "kernelspec": {
      "name": "python3",
      "display_name": "Python 3"
    },
    "language_info": {
      "name": "python"
    }
  },
  "cells": [
    {
      "cell_type": "markdown",
      "metadata": {
        "id": "view-in-github",
        "colab_type": "text"
      },
      "source": [
        "<a href=\"https://colab.research.google.com/github/LukmanAP/dataset1/blob/main/preprocessing.ipynb\" target=\"_parent\"><img src=\"https://colab.research.google.com/assets/colab-badge.svg\" alt=\"Open In Colab\"/></a>"
      ]
    },
    {
      "cell_type": "code",
      "execution_count": 4,
      "metadata": {
        "id": "VzXf1HYS8JZa"
      },
      "outputs": [],
      "source": [
        "import numpy as np\n",
        "import matplotlib.pyplot as plt\n",
        "import pandas as pd"
      ]
    },
    {
      "cell_type": "markdown",
      "source": [
        "Menambahkan Library seperti Numpy, Pandas dan Matplotlib.\n",
        "Matplotlib merupakan Library python unutk presentasi data berupa grafik atau plot."
      ],
      "metadata": {
        "id": "SOcMlvxHleQN"
      }
    },
    {
      "cell_type": "code",
      "source": [
        "dataset = pd.read_csv('Data Penduduk.csv')\n",
        "x = dataset.iloc[:, :-1].values\n",
        "y = dataset.iloc[:,-1].values"
      ],
      "metadata": {
        "id": "s8OcDkDolxaM"
      },
      "execution_count": 5,
      "outputs": []
    },
    {
      "cell_type": "code",
      "source": [
        "print(x)"
      ],
      "metadata": {
        "colab": {
          "base_uri": "https://localhost:8080/"
        },
        "id": "UY3BOXsGHrNM",
        "outputId": "9541f0ed-2f9c-4616-8ddc-57595f1f6ece"
      },
      "execution_count": 6,
      "outputs": [
        {
          "output_type": "stream",
          "name": "stdout",
          "text": [
            "[[11 'Aceh' 2010 'L']\n",
            " [11 'Aceh' 2010 'P']\n",
            " [11 'Aceh' 2015 'L']\n",
            " ...\n",
            " [94 'Papua' 2030 'P']\n",
            " [94 'Papua' 2035 'L']\n",
            " [94 'Papua' 2035 'P']]\n"
          ]
        }
      ]
    },
    {
      "cell_type": "code",
      "source": [
        "print(y)"
      ],
      "metadata": {
        "colab": {
          "base_uri": "https://localhost:8080/"
        },
        "id": "mGapvOARHw6A",
        "outputId": "bf093e82-4285-4ef2-d18b-32484748ec7d"
      },
      "execution_count": 7,
      "outputs": [
        {
          "output_type": "stream",
          "name": "stdout",
          "text": [
            "[ 2255.   2268.1  2497.5  2504.5  2728.2  2731.7  2933.3  2936.7  3110.3\n",
            "  3117.3  3264.2  3277.2  6494.6  6534.1  6954.6  6983.2  7335.8  7367.7\n",
            "  7632.4  7678.8  7847.6  7916.1  7990.3  8083.1  2409.2  2456.1  2584.2\n",
            "  2612.1  2741.6  2757.2  2874.4  2883.4  2981.1  2987.2  3062.6  3067.8\n",
            "  2866.9  2708.   3257.6  3086.8  3654.   3474.3  4041.2  3857.3  4413.2\n",
            "  4230.1  4770.1  4592.9  1586.1  1521.5  1736.1  1666.   1875.8  1802.1\n",
            "  2000.7  1925.9  2107.7  2034.6  2196.   2126.9  3801.8  3679.8  4092.2\n",
            "  3960.1  4352.1  4215.8  4567.5  4432.9  4736.4  4608.8  4864.1  4746.6\n",
            "   878.9   843.2   956.2   918.7  1028.8   991.   1093.6  1056.9  1149.1\n",
            "  1115.2  1195.4  1165.2  3922.8  3711.2  4162.5  3954.8  4359.9  4161.3\n",
            "  4504.3  4320.3  4595.8  4430.4  4640.   4496.1   637.5   592.7   713.2\n",
            "   659.6   789.7   727.9   863.3   794.2   932.1   856.8   995.8   915.2\n",
            "   867.7   825.1  1007.9   965.1  1141.7  1100.5  1268.   1233.5  1395.9\n",
            "  1372.6  1529.7  1520.8  4879.   4761.4  5115.3  5062.6  5324.8  5320.2\n",
            "  5504.   5530.   5629.6  5680.4  5690.2  5769.4 21955.3 21271.8 23681.\n",
            " 23028.6 25265.2 24670.5 26645.5 26140.2 27789.5 27404.3 28688.9 28448.4\n",
            " 16091.6 16352.3 16750.9 17023.2 17320.1 17620.  17809.7 18148.9 18182.4\n",
            " 18569.3 18391.5 18827.9  1710.9  1756.6  1818.8  1860.4  1921.6  1960.7\n",
            "  2013.2  2051.4  2090.7  2129.5  2153.8  2194.7 18512.6 19053.2 19172.4\n",
            " 19675.2 19693.8 20192.5 20061.7 20584.4 20255.6 20821.7 20256.  20871.7\n",
            "  5458.5  5230.1  6097.1  5858.1  6700.1  6460.4  7238.   7011.   7701.\n",
            "  7500.8  8097.6  7935.5  1966.2  1941.2  2091.   2061.8  2206.2  2174.6\n",
            "  2309.2  2276.8  2398.5  2366.9  2471.1  2441.3  2187.4  2328.7  2345.8\n",
            "  2489.8  2488.8  2636.8  2611.2  2764.4  2712.7  2871.1  2795.9  2958.3\n",
            "  2333.   2373.2  2536.9  2583.2  2744.2  2797.2  2955.2  3015.6  3167.4\n",
            "  3234.8  3377.8  3451.3  2251.8  2159.6  2439.9  2349.7  2610.5  2524.3\n",
            "  2756.   2676.6  2874.6  2804.6  2968.7  2909.4  1156.3  1064.5  1302.8\n",
            "  1192.2  1449.3  1319.9  1589.1  1441.9  1718.5  1555.1  1836.   1658.5\n",
            "  1841.   1801.6  2022.   1967.8  2184.7  2119.3  2325.5  2252.8  2445.5\n",
            "  2368.7  2547.5  2468.8  1880.5  1695.6  2138.1  1930.5  2395.4  2166.3\n",
            "  2644.   2396.7  2879.3  2617.7  3100.5  2828.7  1161.5  1116.2  1230.8\n",
            "  1181.3  1289.7  1239.1  1336.7  1287.6  1370.8  1325.3  1392.2  1351.5\n",
            "  1354.   1292.   1469.6  1407.1  1579.7  1517.3  1680.   1619.5  1769.\n",
            "  1711.6  1847.   1793.8  3929.4  4131.   4161.   4359.3  4364.6  4563.4\n",
            "  4531.3  4734.2  4655.9  4865.8  4738.9  4957.1  1125.3  1118.3  1256.\n",
            "  1243.5  1386.6  1369.   1512.3  1490.7  1631.2  1606.5  1742.4  1715.7\n",
            "   523.2   521.6   567.7   565.5   610.9   608.7   650.7   649.    685.5\n",
            "   684.7   714.7   715.4   583.4   581.2   643.2   639.    705.3   699.7\n",
            "   767.4   760.4   827.6   819.6   886.1   877.2   778.3   763.6   850.7\n",
            "   835.8   923.2   908.7   993.2   979.5  1058.4  1045.8  1119.6  1108.2\n",
            "   533.1   510.2   593.2   569.1   651.8   627.    707.9   683.1   761.8\n",
            "   737.6   813.5   790.1   404.3   361.    459.3   412.2   516.2   465.6\n",
            "   573.    519.2   628.3   571.8   681.8   623.2  1515.6  1341.4  1661.2\n",
            "  1488.2  1802.2  1633.2  1931.4  1770.3  2044.3  1895.1  2139.1  2005.5]\n"
          ]
        }
      ]
    },
    {
      "cell_type": "markdown",
      "source": [
        "membuat Variabel x dan y\n",
        "\n",
        "\n",
        "*   Variabel x berisikan Colom kode, propinsi, tahun, kelamin\n",
        "*   Variabel y berisikan Colom jumlah\n",
        "\n"
      ],
      "metadata": {
        "id": "T9S9t1IPnQuY"
      }
    },
    {
      "cell_type": "code",
      "source": [
        "propinsi = dataset.iloc[:,1:2]\n",
        "\n",
        "from sklearn.compose import ColumnTransformer\n",
        "from sklearn.preprocessing import OneHotEncoder\n",
        "ct = ColumnTransformer(transformers=[('encoder', OneHotEncoder(), [0])], remainder='passthrough')\n",
        "propinsi = np.array(ct.fit_transform(propinsi))"
      ],
      "metadata": {
        "id": "Qi9euFqhoy5h"
      },
      "execution_count": 8,
      "outputs": []
    },
    {
      "cell_type": "code",
      "source": [
        "print(propinsi)"
      ],
      "metadata": {
        "id": "dU6aJTjhqNwP",
        "colab": {
          "base_uri": "https://localhost:8080/"
        },
        "outputId": "f97a5c80-c1cf-444f-f38c-414416c1f6f8"
      },
      "execution_count": 9,
      "outputs": [
        {
          "output_type": "stream",
          "name": "stdout",
          "text": [
            "  (0, 0)\t1.0\n",
            "  (1, 0)\t1.0\n",
            "  (2, 0)\t1.0\n",
            "  (3, 0)\t1.0\n",
            "  (4, 0)\t1.0\n",
            "  (5, 0)\t1.0\n",
            "  (6, 0)\t1.0\n",
            "  (7, 0)\t1.0\n",
            "  (8, 0)\t1.0\n",
            "  (9, 0)\t1.0\n",
            "  (10, 0)\t1.0\n",
            "  (11, 0)\t1.0\n",
            "  (12, 32)\t1.0\n",
            "  (13, 32)\t1.0\n",
            "  (14, 32)\t1.0\n",
            "  (15, 32)\t1.0\n",
            "  (16, 32)\t1.0\n",
            "  (17, 32)\t1.0\n",
            "  (18, 32)\t1.0\n",
            "  (19, 32)\t1.0\n",
            "  (20, 32)\t1.0\n",
            "  (21, 32)\t1.0\n",
            "  (22, 32)\t1.0\n",
            "  (23, 32)\t1.0\n",
            "  (24, 30)\t1.0\n",
            "  :\t:\n",
            "  (371, 19)\t1.0\n",
            "  (372, 23)\t1.0\n",
            "  (373, 23)\t1.0\n",
            "  (374, 23)\t1.0\n",
            "  (375, 23)\t1.0\n",
            "  (376, 23)\t1.0\n",
            "  (377, 23)\t1.0\n",
            "  (378, 23)\t1.0\n",
            "  (379, 23)\t1.0\n",
            "  (380, 23)\t1.0\n",
            "  (381, 23)\t1.0\n",
            "  (382, 23)\t1.0\n",
            "  (383, 23)\t1.0\n",
            "  (384, 22)\t1.0\n",
            "  (385, 22)\t1.0\n",
            "  (386, 22)\t1.0\n",
            "  (387, 22)\t1.0\n",
            "  (388, 22)\t1.0\n",
            "  (389, 22)\t1.0\n",
            "  (390, 22)\t1.0\n",
            "  (391, 22)\t1.0\n",
            "  (392, 22)\t1.0\n",
            "  (393, 22)\t1.0\n",
            "  (394, 22)\t1.0\n",
            "  (395, 22)\t1.0\n"
          ]
        }
      ]
    },
    {
      "cell_type": "markdown",
      "source": [
        "mengencoding colom propinsi menjadi matrix"
      ],
      "metadata": {
        "id": "zDacjDIcxTnJ"
      }
    },
    {
      "cell_type": "code",
      "source": [
        "kelamin = dataset.iloc[:,3:4]\n",
        "from sklearn.preprocessing import LabelEncoder\n",
        "klmn = LabelEncoder()\n",
        "kelamin = klmn.fit_transform(kelamin)\n"
      ],
      "metadata": {
        "colab": {
          "base_uri": "https://localhost:8080/"
        },
        "id": "kcEpV0W0xQQy",
        "outputId": "24fe603d-a629-4e51-b71b-9529084dca23"
      },
      "execution_count": 10,
      "outputs": [
        {
          "output_type": "stream",
          "name": "stderr",
          "text": [
            "/usr/local/lib/python3.9/dist-packages/sklearn/preprocessing/_label.py:116: DataConversionWarning: A column-vector y was passed when a 1d array was expected. Please change the shape of y to (n_samples, ), for example using ravel().\n",
            "  y = column_or_1d(y, warn=True)\n"
          ]
        }
      ]
    },
    {
      "cell_type": "code",
      "source": [
        "print(kelamin)"
      ],
      "metadata": {
        "id": "l0jCkTuXx9ic",
        "colab": {
          "base_uri": "https://localhost:8080/"
        },
        "outputId": "571161ab-4ed7-494d-e00f-be9d894a23f8"
      },
      "execution_count": 11,
      "outputs": [
        {
          "output_type": "stream",
          "name": "stdout",
          "text": [
            "[0 1 0 1 0 1 0 1 0 1 0 1 0 1 0 1 0 1 0 1 0 1 0 1 0 1 0 1 0 1 0 1 0 1 0 1 0\n",
            " 1 0 1 0 1 0 1 0 1 0 1 0 1 0 1 0 1 0 1 0 1 0 1 0 1 0 1 0 1 0 1 0 1 0 1 0 1\n",
            " 0 1 0 1 0 1 0 1 0 1 0 1 0 1 0 1 0 1 0 1 0 1 0 1 0 1 0 1 0 1 0 1 0 1 0 1 0\n",
            " 1 0 1 0 1 0 1 0 1 0 1 0 1 0 1 0 1 0 1 0 1 0 1 0 1 0 1 0 1 0 1 0 1 0 1 0 1\n",
            " 0 1 0 1 0 1 0 1 0 1 0 1 0 1 0 1 0 1 0 1 0 1 0 1 0 1 0 1 0 1 0 1 0 1 0 1 0\n",
            " 1 0 1 0 1 0 1 0 1 0 1 0 1 0 1 0 1 0 1 0 1 0 1 0 1 0 1 0 1 0 1 0 1 0 1 0 1\n",
            " 0 1 0 1 0 1 0 1 0 1 0 1 0 1 0 1 0 1 0 1 0 1 0 1 0 1 0 1 0 1 0 1 0 1 0 1 0\n",
            " 1 0 1 0 1 0 1 0 1 0 1 0 1 0 1 0 1 0 1 0 1 0 1 0 1 0 1 0 1 0 1 0 1 0 1 0 1\n",
            " 0 1 0 1 0 1 0 1 0 1 0 1 0 1 0 1 0 1 0 1 0 1 0 1 0 1 0 1 0 1 0 1 0 1 0 1 0\n",
            " 1 0 1 0 1 0 1 0 1 0 1 0 1 0 1 0 1 0 1 0 1 0 1 0 1 0 1 0 1 0 1 0 1 0 1 0 1\n",
            " 0 1 0 1 0 1 0 1 0 1 0 1 0 1 0 1 0 1 0 1 0 1 0 1 0 1]\n"
          ]
        }
      ]
    },
    {
      "cell_type": "markdown",
      "source": [
        "mengubah kolom kelamin menjadi 0 dan 1\n",
        "*   0 = Laki-laki\n",
        "*   1 = Perempuan\n",
        "\n"
      ],
      "metadata": {
        "id": "qRh2CeULylg4"
      }
    },
    {
      "cell_type": "code",
      "source": [
        "from sklearn.model_selection import train_test_split\n",
        "x_train, x_test, y_train, y_test = train_test_split(x, y, test_size=0.2, random_state=1 )\n",
        "                                                                              "
      ],
      "metadata": {
        "id": "PB5Nzxj3yd19"
      },
      "execution_count": 12,
      "outputs": []
    },
    {
      "cell_type": "code",
      "source": [
        "print(x_train)\n"
      ],
      "metadata": {
        "id": "w8EAK7AM12dz",
        "outputId": "735448a0-1f56-4656-e74d-ba01dadaa6e2",
        "colab": {
          "base_uri": "https://localhost:8080/"
        }
      },
      "execution_count": 13,
      "outputs": [
        {
          "output_type": "stream",
          "name": "stdout",
          "text": [
            "[[76 'Sulawesi Barat' 2030 'P']\n",
            " [12 'Sumatera Utara' 2010 'P']\n",
            " [52 'Nusa Tenggara Barat' 2035 'L']\n",
            " ...\n",
            " [17 'Bengkulu' 2010 'L']\n",
            " [61 'Kalimantan Barat' 2025 'P']\n",
            " [14 'Riau' 2010 'P']]\n"
          ]
        }
      ]
    },
    {
      "cell_type": "code",
      "source": [
        "print(x_test)"
      ],
      "metadata": {
        "colab": {
          "base_uri": "https://localhost:8080/"
        },
        "id": "Yc2gdAoAJOTj",
        "outputId": "bcf8b9ab-13b3-4c83-e692-d791ffab2271"
      },
      "execution_count": 18,
      "outputs": [
        {
          "output_type": "stream",
          "name": "stdout",
          "text": [
            "[[35 'Jawa Timur' 2025 'L']\n",
            " [81 'Maluku' 2035 'L']\n",
            " [62 'Kalimantan Tengah' 2030 'P']\n",
            " [64 'Kalimantan Timur' 2030 'P']\n",
            " [76 'Sulawesi Barat' 2015 'P']\n",
            " [74 'Sulawesi Tenggara' 2010 'L']\n",
            " [21 'Kepulauan Riau' 2030 'P']\n",
            " [82 'Maluku Utara' 2015 'L']\n",
            " [36 'Banten' 2030 'P']\n",
            " [19 'Bangka Belitung' 2035 'L']\n",
            " [82 'Maluku Utara' 2035 'L']\n",
            " [53 'Nusa Tenggara Timur' 2020 'P']\n",
            " [74 'Sulawesi Tenggara' 2015 'P']\n",
            " [91 'Papua Barat' 2015 'L']\n",
            " [76 'Sulawesi Barat' 2025 'L']\n",
            " [35 'Jawa Timur' 2035 'P']\n",
            " [11 'Aceh' 2020 'P']\n",
            " [31 'DKI Jakarta' 2020 'P']\n",
            " [18 'Lampung' 2025 'L']\n",
            " [82 'Maluku Utara' 2020 'L']\n",
            " [35 'Jawa Timur' 2020 'P']\n",
            " [61 'Kalimantan Barat' 2020 'L']\n",
            " [12 'Sumatera Utara' 2020 'P']\n",
            " [13 'Sumatera Barat' 2020 'P']\n",
            " [74 'Sulawesi Tenggara' 2015 'L']\n",
            " [19 'Bangka Belitung' 2025 'L']\n",
            " [81 'Maluku' 2025 'P']\n",
            " [62 'Kalimantan Tengah' 2020 'P']\n",
            " [11 'Aceh' 2020 'L']\n",
            " [94 'Papua' 2015 'P']\n",
            " [53 'Nusa Tenggara Timur' 2015 'L']\n",
            " [11 'Aceh' 2025 'L']\n",
            " [17 'Bengkulu' 2025 'L']\n",
            " [71 'Sulawesi Utara' 2010 'P']\n",
            " [61 'Kalimantan Barat' 2020 'P']\n",
            " [18 'Lampung' 2010 'P']\n",
            " [36 'Banten' 2020 'P']\n",
            " [18 'Lampung' 2035 'P']\n",
            " [94 'Papua' 2030 'P']\n",
            " [32 'Jawa Barat' 2010 'L']\n",
            " [15 'Jambi' 2035 'L']\n",
            " [94 'Papua' 2035 'L']\n",
            " [71 'Sulawesi Utara' 2030 'P']\n",
            " [61 'Kalimantan Barat' 2030 'L']\n",
            " [73 'Sulawesi Selatan' 2025 'L']\n",
            " [63 'Kalimantan Selatan' 2020 'P']\n",
            " [53 'Nusa Tenggara Timur' 2035 'P']\n",
            " [16 'Sumatera Selatan' 2015 'L']\n",
            " [34 'DI Yogyakarta' 2035 'P']\n",
            " [51 'Bali' 2030 'P']\n",
            " [12 'Sumatera Utara' 2025 'L']\n",
            " [61 'Kalimantan Barat' 2035 'L']\n",
            " [94 'Papua' 2030 'L']\n",
            " [18 'Lampung' 2030 'L']\n",
            " [94 'Papua' 2010 'P']\n",
            " [17 'Bengkulu' 2030 'P']\n",
            " [16 'Sumatera Selatan' 2025 'P']\n",
            " [16 'Sumatera Selatan' 2020 'P']\n",
            " [52 'Nusa Tenggara Barat' 2010 'L']\n",
            " [64 'Kalimantan Timur' 2035 'P']\n",
            " [72 'Sulawesi Tengah' 2025 'L']\n",
            " [91 'Papua Barat' 2035 'P']\n",
            " [72 'Sulawesi Tengah' 2010 'P']\n",
            " [53 'Nusa Tenggara Timur' 2030 'P']\n",
            " [64 'Kalimantan Timur' 2020 'L']\n",
            " [81 'Maluku' 2010 'L']\n",
            " [73 'Sulawesi Selatan' 2020 'P']\n",
            " [91 'Papua Barat' 2015 'P']\n",
            " [76 'Sulawesi Barat' 2010 'P']\n",
            " [18 'Lampung' 2030 'P']\n",
            " [71 'Sulawesi Utara' 2035 'L']\n",
            " [17 'Bengkulu' 2030 'L']\n",
            " [11 'Aceh' 2035 'P']\n",
            " [72 'Sulawesi Tengah' 2025 'P']\n",
            " [14 'Riau' 2020 'P']\n",
            " [33 'Jawa Tengah' 2015 'L']\n",
            " [71 'Sulawesi Utara' 2035 'P']\n",
            " [53 'Nusa Tenggara Timur' 2025 'L']\n",
            " [34 'DI Yogyakarta' 2015 'P']\n",
            " [12 'Sumatera Utara' 2035 'P']]\n"
          ]
        }
      ]
    },
    {
      "cell_type": "code",
      "source": [
        "print(y_train)"
      ],
      "metadata": {
        "colab": {
          "base_uri": "https://localhost:8080/"
        },
        "id": "DT05185jJs45",
        "outputId": "c7c6ad94-b1ce-45f3-a2d7-a18ba6cb8112"
      },
      "execution_count": 19,
      "outputs": [
        {
          "output_type": "stream",
          "name": "stdout",
          "text": [
            "[  819.6  6534.1  2795.9  3679.8  4738.9  2764.4  3015.6  2184.7   649.\n",
            "   908.7  1230.8  5530.   2129.5  1847.   2174.6   915.2  2325.5 19693.8\n",
            "  1195.4   627.   1966.2  2612.1  4161.3  4865.8   843.2  1718.5  2368.7\n",
            "  5115.3  1108.2  2871.1   713.2  1302.8   684.7  2051.4  1520.8  4957.1\n",
            "  3086.8 19675.2  2644.   1589.1   763.6  2126.9  4879.   6494.6  4734.2\n",
            "   519.2  4320.3   877.2  2005.5  1631.2  1930.5  5458.5 26140.2  1058.4\n",
            "   569.1  4359.9  5769.4  5324.8  1742.4  6954.6  1960.7  5062.6 26645.5\n",
            "   965.1  1666.   1141.7  3117.3  1836.   7335.8   681.8  2255.    856.8\n",
            "  7701.   1517.3   643.2  4864.1  3257.6 17809.7  2489.8  2013.2  1370.8\n",
            "   516.2 16352.3  7238.   4041.2  1921.6  2251.8   761.8  2445.5  3167.4\n",
            "  1931.4   610.9  1287.6  7935.5 17023.2  1449.3   789.7  3062.6  1007.9\n",
            " 20584.4   737.6 23028.6   404.3 18391.5  7678.8 28688.9  1818.8  2396.7\n",
            "  4413.2  1407.1  2756.   1441.9   867.7   760.4 19053.2  1056.9   465.6\n",
            "  3922.8  3110.3  2488.8   659.6   886.1   565.5  1512.3  2741.6  2883.4\n",
            "  1925.9   705.3  2981.1  2879.3  1586.1   608.7   361.   2987.2  1633.2\n",
            "  3067.8  4131.   3960.1  1756.6  5629.6  4770.1  2439.9  4567.5   571.8\n",
            "   714.7  2159.6   573.   1802.2  1606.5  4230.1  2345.8 18512.6  1658.5\n",
            "  4592.9  1100.5 20821.7  2583.2  4359.3  3654.   7916.1   727.9  2090.7\n",
            "  4608.8  1802.1  2276.8  3100.5 24670.5  2409.2  1715.7  7011.   6700.1\n",
            "  2328.7 23681.   3929.4  1395.9  2712.7   533.1   699.7  1769.   2349.7\n",
            "  2373.2  2107.7   650.7  1579.7  1469.6  5230.1   592.7  1268.   1529.7\n",
            "  1793.8 19172.4   827.6  2000.7 20255.6  2091.   2309.2  6097.1   521.6\n",
            "   794.2  2744.2  5690.2   567.7  3801.8  4640.   1941.2 27789.5 17320.1\n",
            "  2471.1 18182.4   523.2  3264.2  2166.3   637.5  2611.2  1156.3  2034.6\n",
            "  4364.6  2866.9   628.3  7847.6   835.8   918.7  2398.5   991.   2468.8\n",
            "  1770.3 17620.    850.7  2497.5  1875.8  2547.5  1801.6  2252.8  5858.1\n",
            " 18148.9   510.2  4161.   8097.6   956.2  1192.2  1515.6  3954.8  2909.4\n",
            " 28448.4   685.5  2138.1  1354.  25265.2  2153.8  1165.2   993.2 18827.9\n",
            "  1181.3  5504.   2061.8  1695.6   683.1   932.1 18569.3  1336.7  3377.8\n",
            "  2456.1  2206.2  4352.1  6983.2  1711.6   825.1   583.4  4655.9  2584.2\n",
            "  1028.8  3857.3  1289.7  2504.5   707.9  1521.5  1661.2  2874.4  4761.4\n",
            "  1233.5   790.1  2333.   1880.5  2636.8  1386.6  2268.1  1118.3  7990.3\n",
            "  1369.   1490.7  2936.7 27404.3  4162.5   923.2  1064.5  2958.3  4736.4\n",
            "  1736.1  1710.9  1841.   1045.8  2022.   1161.5 20256.   1239.1  2804.6\n",
            "  4746.6  5680.4 16091.6   715.4 21271.8  2441.3  1967.8   878.9  2676.6\n",
            "  2708. ]\n"
          ]
        }
      ]
    },
    {
      "cell_type": "code",
      "source": [
        "print(y_test)"
      ],
      "metadata": {
        "colab": {
          "base_uri": "https://localhost:8080/"
        },
        "id": "CEHmHRY2KqKq",
        "outputId": "2311c37a-faf7-46b6-ca72-094b91842d1b"
      },
      "execution_count": 20,
      "outputs": [
        {
          "output_type": "stream",
          "name": "stdout",
          "text": [
            "[20061.7  1119.6  1555.1  2617.7   639.   1125.3  1372.6   593.2  7500.8\n",
            "   995.8   813.5  2797.2  1243.5   459.3   767.4 20871.7  2731.7  5320.2\n",
            "  4504.3   651.8 20192.5  2610.5  7367.7  2757.2  1256.    863.3   979.5\n",
            "  1319.9  2728.2  1488.2  2536.9  2933.3  1093.6  1116.2  2524.3  3711.2\n",
            "  6460.4  4496.1  1895.1 21955.3  2196.   2139.1  1325.3  2874.6  4531.3\n",
            "  2119.3  3451.3  4092.2  2194.7  2366.9  7632.4  2968.7  2044.3  4595.8\n",
            "  1341.4  1115.2  4432.9  4215.8  2187.4  2828.7  1680.    623.2  1292.\n",
            "  3234.8  2395.4   778.3  4563.4   412.2   581.2  4430.4  1392.2  1149.1\n",
            "  3277.2  1619.5  3474.3 16750.9  1351.5  2955.2  1860.4  8083.1]\n"
          ]
        }
      ]
    },
    {
      "cell_type": "markdown",
      "source": [
        "Membagi Dataset ke dalam training dan Testing dari variabel yang sudah kita tentukan sebelumnya. yaitu, variabel x dan variabel y"
      ],
      "metadata": {
        "id": "KpPdkY_I2VkS"
      }
    }
  ]
}