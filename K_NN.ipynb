{
  "nbformat": 4,
  "nbformat_minor": 0,
  "metadata": {
    "colab": {
      "provenance": [],
      "authorship_tag": "ABX9TyORPhxXrNK1Jmk9Tjw07aK1",
      "include_colab_link": true
    },
    "kernelspec": {
      "name": "python3",
      "display_name": "Python 3"
    },
    "language_info": {
      "name": "python"
    }
  },
  "cells": [
    {
      "cell_type": "markdown",
      "metadata": {
        "id": "view-in-github",
        "colab_type": "text"
      },
      "source": [
        "<a href=\"https://colab.research.google.com/github/LukmanAP/dataset1/blob/main/K_NN.ipynb\" target=\"_parent\"><img src=\"https://colab.research.google.com/assets/colab-badge.svg\" alt=\"Open In Colab\"/></a>"
      ]
    },
    {
      "cell_type": "code",
      "execution_count": null,
      "metadata": {
        "id": "50PsJbwSa4NN"
      },
      "outputs": [],
      "source": [
        "import numpy as np\n",
        "import matplotlib.pyplot as plt\n",
        "import pandas as pd"
      ]
    },
    {
      "cell_type": "code",
      "source": [
        "dataset = pd.read_csv('datakelulusanmahasiswa.csv')"
      ],
      "metadata": {
        "id": "6n3doXqerIB1"
      },
      "execution_count": null,
      "outputs": []
    },
    {
      "cell_type": "code",
      "source": [
        "x = dataset.iloc[:,[1,2,3,4,13]]\n",
        "y = dataset.iloc[:, -1]"
      ],
      "metadata": {
        "id": "_sunnkDXqEsz"
      },
      "execution_count": null,
      "outputs": []
    },
    {
      "cell_type": "code",
      "source": [
        "from sklearn.preprocessing import LabelEncoder\n",
        "kelulusan = LabelEncoder()\n",
        "y = kelulusan.fit_transform(y)"
      ],
      "metadata": {
        "id": "UptnaLE1tfw4"
      },
      "execution_count": null,
      "outputs": []
    },
    {
      "cell_type": "code",
      "source": [
        "x.head()"
      ],
      "metadata": {
        "colab": {
          "base_uri": "https://localhost:8080/",
          "height": 206
        },
        "id": "CMF_-0lMt1P3",
        "outputId": "0012820d-9139-4884-8ce0-4e0e219f9670"
      },
      "execution_count": null,
      "outputs": [
        {
          "output_type": "execute_result",
          "data": {
            "text/plain": [
              "   JENIS KELAMIN  STATUS 0  UMUR  STATUS NIKAH  IPK \n",
              "0              1         1    28             1  3.07\n",
              "1              1         0    32             1  3.17\n",
              "2              1         1    29             1  3.54\n",
              "3              1         0    27             1  3.41\n",
              "4              1         1    29             1  3.09"
            ],
            "text/html": [
              "\n",
              "  <div id=\"df-9e1573f2-69b2-4e31-aeeb-9ccab3aaff52\">\n",
              "    <div class=\"colab-df-container\">\n",
              "      <div>\n",
              "<style scoped>\n",
              "    .dataframe tbody tr th:only-of-type {\n",
              "        vertical-align: middle;\n",
              "    }\n",
              "\n",
              "    .dataframe tbody tr th {\n",
              "        vertical-align: top;\n",
              "    }\n",
              "\n",
              "    .dataframe thead th {\n",
              "        text-align: right;\n",
              "    }\n",
              "</style>\n",
              "<table border=\"1\" class=\"dataframe\">\n",
              "  <thead>\n",
              "    <tr style=\"text-align: right;\">\n",
              "      <th></th>\n",
              "      <th>JENIS KELAMIN</th>\n",
              "      <th>STATUS 0</th>\n",
              "      <th>UMUR</th>\n",
              "      <th>STATUS NIKAH</th>\n",
              "      <th>IPK</th>\n",
              "    </tr>\n",
              "  </thead>\n",
              "  <tbody>\n",
              "    <tr>\n",
              "      <th>0</th>\n",
              "      <td>1</td>\n",
              "      <td>1</td>\n",
              "      <td>28</td>\n",
              "      <td>1</td>\n",
              "      <td>3.07</td>\n",
              "    </tr>\n",
              "    <tr>\n",
              "      <th>1</th>\n",
              "      <td>1</td>\n",
              "      <td>0</td>\n",
              "      <td>32</td>\n",
              "      <td>1</td>\n",
              "      <td>3.17</td>\n",
              "    </tr>\n",
              "    <tr>\n",
              "      <th>2</th>\n",
              "      <td>1</td>\n",
              "      <td>1</td>\n",
              "      <td>29</td>\n",
              "      <td>1</td>\n",
              "      <td>3.54</td>\n",
              "    </tr>\n",
              "    <tr>\n",
              "      <th>3</th>\n",
              "      <td>1</td>\n",
              "      <td>0</td>\n",
              "      <td>27</td>\n",
              "      <td>1</td>\n",
              "      <td>3.41</td>\n",
              "    </tr>\n",
              "    <tr>\n",
              "      <th>4</th>\n",
              "      <td>1</td>\n",
              "      <td>1</td>\n",
              "      <td>29</td>\n",
              "      <td>1</td>\n",
              "      <td>3.09</td>\n",
              "    </tr>\n",
              "  </tbody>\n",
              "</table>\n",
              "</div>\n",
              "      <button class=\"colab-df-convert\" onclick=\"convertToInteractive('df-9e1573f2-69b2-4e31-aeeb-9ccab3aaff52')\"\n",
              "              title=\"Convert this dataframe to an interactive table.\"\n",
              "              style=\"display:none;\">\n",
              "        \n",
              "  <svg xmlns=\"http://www.w3.org/2000/svg\" height=\"24px\"viewBox=\"0 0 24 24\"\n",
              "       width=\"24px\">\n",
              "    <path d=\"M0 0h24v24H0V0z\" fill=\"none\"/>\n",
              "    <path d=\"M18.56 5.44l.94 2.06.94-2.06 2.06-.94-2.06-.94-.94-2.06-.94 2.06-2.06.94zm-11 1L8.5 8.5l.94-2.06 2.06-.94-2.06-.94L8.5 2.5l-.94 2.06-2.06.94zm10 10l.94 2.06.94-2.06 2.06-.94-2.06-.94-.94-2.06-.94 2.06-2.06.94z\"/><path d=\"M17.41 7.96l-1.37-1.37c-.4-.4-.92-.59-1.43-.59-.52 0-1.04.2-1.43.59L10.3 9.45l-7.72 7.72c-.78.78-.78 2.05 0 2.83L4 21.41c.39.39.9.59 1.41.59.51 0 1.02-.2 1.41-.59l7.78-7.78 2.81-2.81c.8-.78.8-2.07 0-2.86zM5.41 20L4 18.59l7.72-7.72 1.47 1.35L5.41 20z\"/>\n",
              "  </svg>\n",
              "      </button>\n",
              "      \n",
              "  <style>\n",
              "    .colab-df-container {\n",
              "      display:flex;\n",
              "      flex-wrap:wrap;\n",
              "      gap: 12px;\n",
              "    }\n",
              "\n",
              "    .colab-df-convert {\n",
              "      background-color: #E8F0FE;\n",
              "      border: none;\n",
              "      border-radius: 50%;\n",
              "      cursor: pointer;\n",
              "      display: none;\n",
              "      fill: #1967D2;\n",
              "      height: 32px;\n",
              "      padding: 0 0 0 0;\n",
              "      width: 32px;\n",
              "    }\n",
              "\n",
              "    .colab-df-convert:hover {\n",
              "      background-color: #E2EBFA;\n",
              "      box-shadow: 0px 1px 2px rgba(60, 64, 67, 0.3), 0px 1px 3px 1px rgba(60, 64, 67, 0.15);\n",
              "      fill: #174EA6;\n",
              "    }\n",
              "\n",
              "    [theme=dark] .colab-df-convert {\n",
              "      background-color: #3B4455;\n",
              "      fill: #D2E3FC;\n",
              "    }\n",
              "\n",
              "    [theme=dark] .colab-df-convert:hover {\n",
              "      background-color: #434B5C;\n",
              "      box-shadow: 0px 1px 3px 1px rgba(0, 0, 0, 0.15);\n",
              "      filter: drop-shadow(0px 1px 2px rgba(0, 0, 0, 0.3));\n",
              "      fill: #FFFFFF;\n",
              "    }\n",
              "  </style>\n",
              "\n",
              "      <script>\n",
              "        const buttonEl =\n",
              "          document.querySelector('#df-9e1573f2-69b2-4e31-aeeb-9ccab3aaff52 button.colab-df-convert');\n",
              "        buttonEl.style.display =\n",
              "          google.colab.kernel.accessAllowed ? 'block' : 'none';\n",
              "\n",
              "        async function convertToInteractive(key) {\n",
              "          const element = document.querySelector('#df-9e1573f2-69b2-4e31-aeeb-9ccab3aaff52');\n",
              "          const dataTable =\n",
              "            await google.colab.kernel.invokeFunction('convertToInteractive',\n",
              "                                                     [key], {});\n",
              "          if (!dataTable) return;\n",
              "\n",
              "          const docLinkHtml = 'Like what you see? Visit the ' +\n",
              "            '<a target=\"_blank\" href=https://colab.research.google.com/notebooks/data_table.ipynb>data table notebook</a>'\n",
              "            + ' to learn more about interactive tables.';\n",
              "          element.innerHTML = '';\n",
              "          dataTable['output_type'] = 'display_data';\n",
              "          await google.colab.output.renderOutput(dataTable, element);\n",
              "          const docLink = document.createElement('div');\n",
              "          docLink.innerHTML = docLinkHtml;\n",
              "          element.appendChild(docLink);\n",
              "        }\n",
              "      </script>\n",
              "    </div>\n",
              "  </div>\n",
              "  "
            ]
          },
          "metadata": {},
          "execution_count": 18
        }
      ]
    },
    {
      "cell_type": "code",
      "source": [
        "print(y)"
      ],
      "metadata": {
        "colab": {
          "base_uri": "https://localhost:8080/"
        },
        "id": "I0xiw_tpv5wY",
        "outputId": "a45902e3-49a4-4111-c37d-67bbcb284707"
      },
      "execution_count": null,
      "outputs": [
        {
          "output_type": "stream",
          "name": "stdout",
          "text": [
            "[1 1 1 1 1 1 0 0 1 1 1 1 1 1 1 1 1 1 1 0 1 1 1 1 1 1 1 1 0 1 0 1 0 0 1 1 0\n",
            " 1 1 1 1 1 1 1 1 1 1 0 0 1 1 1 1 1 1 1 1 1 1 0 1 1 1 1 0 1 0 1 0 1 1 1 1 1\n",
            " 1 1 1 1 1 1 1 0 1 1 1 1 0 1 0 1 1 1 1 0 1 1 1 1 1 1 1 1 0 1 1 0 0 1 1 1 1\n",
            " 0 0 0 0 1 1 0 1 0 1 1 0 1 0 0 0 0 0 1 1 1 1 1 1 1 1 1 1 1 1 1 0 1 0 0 0 1\n",
            " 1 0 1 0 0 0 1 0 1 1 1 1 0 0 1 1 1 0 0 1 1 1 0 1 1 1 1 0 1 0 1 0 1 0 1 0 0\n",
            " 1 1 1 1 1 1 1 1 0 1 1 1 1 1 1 0 0 1 0 1 1 0 0 0 0 1 1 0 1 1 1 0 1 0 1 0 0\n",
            " 0 0 0 0 0 1 1 1 1 0 0 1 0 0 0 0 0 0 0 0 0 0 0 0 0 0 0 0 0 0 0 0 0 0 0 0 0\n",
            " 0 0 0 0 0 0 0 0 0 0 0 0 0 0 0 0 0 0 0 0 0 0 0 0 0 0 0 0 0 0 0 0 0 0 0 0 0\n",
            " 0 0 0 0 0 0 0 0 0 0 0 0 0 0 0 0 0 0 0 0 0 0 0 0 0 0 0 0 0 0 0 0 0 1 0 0 0\n",
            " 0 0 0 0 0 0 0 0 0 0 0 0 0 0 0 0 0 0 0 0 0 0 0 0 0 0 0 0 0 1 0 0 0 0 0 0 0\n",
            " 0 0 0 0 0 0]\n"
          ]
        }
      ]
    },
    {
      "cell_type": "markdown",
      "source": [
        "Membagi data untuk Data Training dan Data testing"
      ],
      "metadata": {
        "id": "6lLz7tEggE6r"
      }
    },
    {
      "cell_type": "code",
      "source": [
        "from sklearn.model_selection import train_test_split\n",
        "x_train, x_test, y_train, y_test = train_test_split(x, y, test_size = 0.25, random_state = 0)"
      ],
      "metadata": {
        "id": "LkROFakCwYf2"
      },
      "execution_count": null,
      "outputs": []
    },
    {
      "cell_type": "code",
      "source": [
        "print(x_train)"
      ],
      "metadata": {
        "colab": {
          "base_uri": "https://localhost:8080/"
        },
        "id": "9fe-L-4Mwpfl",
        "outputId": "c959068b-8731-4ec1-924d-7490ae25f884"
      },
      "execution_count": null,
      "outputs": [
        {
          "output_type": "stream",
          "name": "stdout",
          "text": [
            "     JENIS KELAMIN  STATUS 0  UMUR  STATUS NIKAH  IPK \n",
            "287              0         0    24             1  2.99\n",
            "334              0         0    23             1  3.53\n",
            "124              0         0    25             1  3.28\n",
            "22               0         0    26             1  3.11\n",
            "216              1         0    26             1  3.51\n",
            "..             ...       ...   ...           ...   ...\n",
            "323              1         0    24             1  3.52\n",
            "192              0         0    25             1  2.59\n",
            "117              0         0    24             1  3.57\n",
            "47               0         1    28             1  3.24\n",
            "172              1         1    25             1  1.93\n",
            "\n",
            "[282 rows x 5 columns]\n"
          ]
        }
      ]
    },
    {
      "cell_type": "code",
      "source": [
        "print(x_test)"
      ],
      "metadata": {
        "colab": {
          "base_uri": "https://localhost:8080/"
        },
        "id": "FaGLlfPEwyVe",
        "outputId": "b23197ad-053d-46d2-8564-9d94e85f973c"
      },
      "execution_count": null,
      "outputs": [
        {
          "output_type": "stream",
          "name": "stdout",
          "text": [
            "     JENIS KELAMIN  STATUS 0  UMUR  STATUS NIKAH  IPK \n",
            "122              1         0    26             1  2.48\n",
            "297              0         0    23             1  2.53\n",
            "313              0         0    23             1  3.32\n",
            "366              1         0    23             1  2.88\n",
            "204              1         1    24             1  2.87\n",
            "..             ...       ...   ...           ...   ...\n",
            "49               0         1    27             1  2.66\n",
            "330              0         0    27             1  3.50\n",
            "252              0         0    30             1  2.68\n",
            "276              1         0    25             1  3.02\n",
            "229              0         1    27             1  2.94\n",
            "\n",
            "[94 rows x 5 columns]\n"
          ]
        }
      ]
    },
    {
      "cell_type": "code",
      "source": [
        "print(y_train)"
      ],
      "metadata": {
        "colab": {
          "base_uri": "https://localhost:8080/"
        },
        "id": "xF9tKxvfw6LR",
        "outputId": "0dfa9920-1e4b-46dd-8237-057d5e6a3143"
      },
      "execution_count": null,
      "outputs": [
        {
          "output_type": "stream",
          "name": "stdout",
          "text": [
            "[0 0 0 1 0 1 1 0 1 0 1 1 1 0 0 0 0 1 0 0 0 1 0 0 0 1 1 0 0 1 1 0 0 1 0 0 0\n",
            " 0 0 0 0 0 1 0 0 1 1 1 1 0 1 0 0 1 1 1 1 0 0 1 1 1 0 0 0 1 0 1 0 0 1 0 0 1\n",
            " 0 0 1 0 1 0 0 1 0 0 0 0 1 1 1 0 0 0 0 0 0 1 0 1 1 1 1 0 0 0 0 0 1 0 1 1 0\n",
            " 1 0 0 0 0 1 0 1 0 1 0 1 1 0 1 0 1 0 1 1 1 1 1 0 1 1 0 0 0 0 1 0 1 1 0 0 1\n",
            " 1 0 1 0 1 0 1 0 0 0 0 0 0 0 1 0 1 0 1 0 0 0 0 1 1 1 0 0 0 0 1 0 1 0 1 1 1\n",
            " 1 1 0 0 1 1 0 1 0 1 0 1 1 0 0 0 1 1 1 1 1 0 0 0 0 1 1 0 0 1 1 0 0 0 1 0 0\n",
            " 1 0 0 1 1 1 0 0 0 0 0 1 0 0 1 1 0 0 1 0 0 0 1 0 0 0 1 0 0 1 0 1 0 1 0 1 0\n",
            " 0 0 1 1 1 0 0 0 1 1 0 0 0 1 1 0 1 0 0 1 0 0 1]\n"
          ]
        }
      ]
    },
    {
      "cell_type": "code",
      "source": [
        "print(y_test)"
      ],
      "metadata": {
        "colab": {
          "base_uri": "https://localhost:8080/"
        },
        "id": "dRxMtTMEw882",
        "outputId": "2f61a6cb-14bd-4fb4-8682-57ae85f5c220"
      },
      "execution_count": null,
      "outputs": [
        {
          "output_type": "stream",
          "name": "stdout",
          "text": [
            "[0 0 0 0 1 0 0 0 1 1 0 1 1 0 0 1 1 1 0 0 0 1 0 1 0 1 0 0 0 1 0 1 1 0 1 1 1\n",
            " 0 1 1 1 0 0 0 1 1 0 0 1 0 0 0 0 0 0 0 1 1 1 1 0 0 0 1 0 0 1 0 0 1 1 1 1 0\n",
            " 0 1 0 0 1 1 1 0 0 0 0 1 1 1 0 1 0 0 0 1]\n"
          ]
        }
      ]
    },
    {
      "cell_type": "markdown",
      "source": [
        "Skaling Data untuk Variabel X"
      ],
      "metadata": {
        "id": "rR4LMNqVgXlx"
      }
    },
    {
      "cell_type": "code",
      "source": [
        "from sklearn.preprocessing import StandardScaler\n",
        "sc = StandardScaler()\n",
        "x_train = sc.fit_transform(x_train)\n",
        "x_test = sc.transform(x_test)"
      ],
      "metadata": {
        "id": "K0_rey3tw_yz"
      },
      "execution_count": null,
      "outputs": []
    },
    {
      "cell_type": "code",
      "source": [
        "print(x_train)"
      ],
      "metadata": {
        "colab": {
          "base_uri": "https://localhost:8080/"
        },
        "id": "DevZniwexELm",
        "outputId": "5fa22efb-d5c1-466a-a6b3-14df07435088"
      },
      "execution_count": null,
      "outputs": [
        {
          "output_type": "stream",
          "name": "stdout",
          "text": [
            "[[-0.75277265 -0.72980045 -0.58660697  0.14744196  0.15070475]\n",
            " [-0.75277265 -0.72980045 -0.9053414   0.14744196  1.27567137]\n",
            " [-0.75277265 -0.72980045 -0.26787255  0.14744196  0.75485349]\n",
            " ...\n",
            " [-0.75277265 -0.72980045 -0.58660697  0.14744196  1.35900223]\n",
            " [-0.75277265  1.37023758  0.68833072  0.14744196  0.67152263]\n",
            " [ 1.32842233  1.37023758 -0.26787255  0.14744196 -2.05756307]]\n"
          ]
        }
      ]
    },
    {
      "cell_type": "code",
      "source": [
        "print(x_test)"
      ],
      "metadata": {
        "colab": {
          "base_uri": "https://localhost:8080/"
        },
        "id": "x-gMpJMXxLoV",
        "outputId": "26246263-f51b-4e15-ab82-7878e7a9a6c7"
      },
      "execution_count": null,
      "outputs": [
        {
          "output_type": "stream",
          "name": "stdout",
          "text": [
            "[[ 1.32842233e+00 -7.29800449e-01  5.08618761e-02  1.47441956e-01\n",
            "  -9.11763730e-01]\n",
            " [-7.52772653e-01 -7.29800449e-01 -9.05341395e-01  1.47441956e-01\n",
            "  -8.07600153e-01]\n",
            " [-7.52772653e-01 -7.29800449e-01 -9.05341395e-01  1.47441956e-01\n",
            "   8.38184352e-01]\n",
            " [ 1.32842233e+00 -7.29800449e-01 -9.05341395e-01  1.47441956e-01\n",
            "  -7.84551192e-02]\n",
            " [ 1.32842233e+00  1.37023758e+00 -5.86606971e-01  1.47441956e-01\n",
            "  -9.92878344e-02]\n",
            " [-7.52772653e-01 -7.29800449e-01  3.69596300e-01  1.47441956e-01\n",
            "   1.40066766e+00]\n",
            " [ 1.32842233e+00 -7.29800449e-01 -2.67872548e-01  1.47441956e-01\n",
            "   1.06734422e+00]\n",
            " [ 1.32842233e+00 -7.29800449e-01 -2.67872548e-01  1.47441956e-01\n",
            "   9.00682498e-01]\n",
            " [-7.52772653e-01  1.37023758e+00  1.32579957e+00  1.47441956e-01\n",
            "  -1.22425446e+00]\n",
            " [-7.52772653e-01  1.37023758e+00  5.08618761e-02  1.47441956e-01\n",
            "  -1.59569734e-02]\n",
            " [-7.52772653e-01 -7.29800449e-01 -5.86606971e-01  1.47441956e-01\n",
            "  -1.82618695e-01]\n",
            " [-7.52772653e-01 -7.29800449e-01 -5.86606971e-01  1.47441956e-01\n",
            "   7.34020776e-01]\n",
            " [ 1.32842233e+00  1.37023758e+00  3.69596300e-01  1.47441956e-01\n",
            "   7.34020776e-01]\n",
            " [ 1.32842233e+00 -7.29800449e-01 -9.05341395e-01  1.47441956e-01\n",
            "   6.29857200e-01]\n",
            " [ 1.32842233e+00 -7.29800449e-01 -2.67872548e-01  1.47441956e-01\n",
            "   4.42362762e-01]\n",
            " [-7.52772653e-01  1.37023758e+00 -5.86606971e-01  1.47441956e-01\n",
            "  -1.59569734e-02]\n",
            " [ 1.32842233e+00  1.37023758e+00 -2.67872548e-01  1.47441956e-01\n",
            "   1.09039318e-01]\n",
            " [-7.52772653e-01 -7.29800449e-01 -5.86606971e-01  1.47441956e-01\n",
            "  -4.32611279e-01]\n",
            " [ 1.32842233e+00 -7.29800449e-01  1.96326842e+00  1.47441956e-01\n",
            "  -2.12006121e+00]\n",
            " [-7.52772653e-01 -7.29800449e-01 -9.05341395e-01  1.47441956e-01\n",
            "  -4.11778563e-01]\n",
            " [-7.52772653e-01 -7.29800449e-01 -5.86606971e-01  1.47441956e-01\n",
            "   2.54868325e-01]\n",
            " [-7.52772653e-01  1.37023758e+00  7.70048805e+00 -6.78232998e+00\n",
            "   5.04860908e-01]\n",
            " [-7.52772653e-01 -7.29800449e-01 -5.86606971e-01  1.47441956e-01\n",
            "   4.87574187e-03]\n",
            " [-7.52772653e-01  1.37023758e+00  5.08618761e-02  1.47441956e-01\n",
            "   4.87574187e-03]\n",
            " [ 1.32842233e+00 -7.29800449e-01 -5.86606971e-01  1.47441956e-01\n",
            "   6.92355346e-01]\n",
            " [ 1.32842233e+00  1.37023758e+00  3.69596300e-01  1.47441956e-01\n",
            "   1.04651150e+00]\n",
            " [ 1.32842233e+00 -7.29800449e-01 -5.86606971e-01  1.47441956e-01\n",
            "   4.84028193e-01]\n",
            " [-7.52772653e-01 -7.29800449e-01  1.32579957e+00  1.47441956e-01\n",
            "  -2.24284126e-01]\n",
            " [ 1.32842233e+00 -7.29800449e-01  5.08618761e-02  1.47441956e-01\n",
            "   2.96533756e-01]\n",
            " [ 1.32842233e+00 -7.29800449e-01  1.96326842e+00  1.47441956e-01\n",
            "   5.25693623e-01]\n",
            " [-7.52772653e-01 -7.29800449e-01 -1.22407582e+00  1.47441956e-01\n",
            "   1.19234051e+00]\n",
            " [-7.52772653e-01 -7.29800449e-01  6.88330724e-01  1.47441956e-01\n",
            "  -2.65949557e-01]\n",
            " [-7.52772653e-01  1.37023758e+00  3.69596300e-01  1.47441956e-01\n",
            "   1.71537464e-01]\n",
            " [ 1.32842233e+00 -7.29800449e-01  4.83187823e+00  1.47441956e-01\n",
            "   1.37983495e+00]\n",
            " [-7.52772653e-01  1.37023758e+00  3.69596300e-01  1.47441956e-01\n",
            "  -1.28675260e+00]\n",
            " [ 1.32842233e+00  1.37023758e+00  1.00706515e+00  1.47441956e-01\n",
            "   2.57084571e-02]\n",
            " [-7.52772653e-01  1.37023758e+00  6.88330724e-01  1.47441956e-01\n",
            "  -5.78440285e-01]\n",
            " [ 1.32842233e+00 -7.29800449e-01 -5.86606971e-01  1.47441956e-01\n",
            "   9.63180644e-01]\n",
            " [ 1.32842233e+00  1.37023758e+00  3.69596300e-01  1.47441956e-01\n",
            "   1.08817694e+00]\n",
            " [-7.52772653e-01 -7.29800449e-01  1.96326842e+00  1.47441956e-01\n",
            "  -1.24508717e+00]\n",
            " [ 1.32842233e+00  1.37023758e+00  3.69596300e-01  1.47441956e-01\n",
            "   2.13202894e-01]\n",
            " [-7.52772653e-01 -7.29800449e-01 -9.05341395e-01  1.47441956e-01\n",
            "  -1.05759274e+00]\n",
            " [ 1.32842233e+00 -7.29800449e-01 -9.05341395e-01  1.47441956e-01\n",
            "   3.59031901e-01]\n",
            " [-7.52772653e-01 -7.29800449e-01 -9.05341395e-01  1.47441956e-01\n",
            "  -1.57841062e+00]\n",
            " [-7.52772653e-01  1.37023758e+00 -2.67872548e-01  1.47441956e-01\n",
            "   5.25693623e-01]\n",
            " [-7.52772653e-01 -7.29800449e-01  3.69596300e-01  1.47441956e-01\n",
            "   2.54868325e-01]\n",
            " [-7.52772653e-01 -7.29800449e-01 -1.22407582e+00  1.47441956e-01\n",
            "  -3.67896887e-02]\n",
            " [ 1.32842233e+00  1.37023758e+00 -9.05341395e-01  1.47441956e-01\n",
            "   1.09039318e-01]\n",
            " [-7.52772653e-01  1.37023758e+00  3.69596300e-01  1.47441956e-01\n",
            "   3.17366471e-01]\n",
            " [-7.52772653e-01 -7.29800449e-01  1.32579957e+00  1.47441956e-01\n",
            "  -5.99273001e-01]\n",
            " [-7.52772653e-01 -7.29800449e-01  5.08618761e-02  1.47441956e-01\n",
            "   7.75686207e-01]\n",
            " [ 1.32842233e+00 -7.29800449e-01  3.69596300e-01  1.47441956e-01\n",
            "  -1.59569734e-02]\n",
            " [ 1.32842233e+00 -7.29800449e-01 -2.67872548e-01  1.47441956e-01\n",
            "   3.59031901e-01]\n",
            " [ 1.32842233e+00 -7.29800449e-01  5.08618761e-02  1.47441956e-01\n",
            "   6.29857200e-01]\n",
            " [ 1.32842233e+00 -7.29800449e-01  3.69596300e-01  1.47441956e-01\n",
            "   4.84028193e-01]\n",
            " [ 1.32842233e+00 -7.29800449e-01 -5.86606971e-01  1.47441956e-01\n",
            "   1.04651150e+00]\n",
            " [-7.52772653e-01  1.37023758e+00 -2.67872548e-01  1.47441956e-01\n",
            "  -2.28672294e+00]\n",
            " [-7.52772653e-01  1.37023758e+00  6.88330724e-01  1.47441956e-01\n",
            "   7.75686207e-01]\n",
            " [ 1.32842233e+00  1.37023758e+00  5.08618761e-02  1.47441956e-01\n",
            "   4.87574187e-03]\n",
            " [ 1.32842233e+00  1.37023758e+00 -5.86606971e-01  1.47441956e-01\n",
            "  -9.32596445e-01]\n",
            " [ 1.32842233e+00 -7.29800449e-01 -9.05341395e-01  1.47441956e-01\n",
            "   1.46316581e+00]\n",
            " [-7.52772653e-01 -7.29800449e-01 -9.05341395e-01  1.47441956e-01\n",
            "  -1.40953265e-01]\n",
            " [-7.52772653e-01 -7.29800449e-01 -5.86606971e-01  1.47441956e-01\n",
            "  -7.86767438e-01]\n",
            " [-7.52772653e-01  1.37023758e+00  5.08618761e-02  1.47441956e-01\n",
            "   8.82066029e-02]\n",
            " [-7.52772653e-01 -7.29800449e-01 -5.86606971e-01  1.47441956e-01\n",
            "   4.84028193e-01]\n",
            " [ 1.32842233e+00 -7.29800449e-01  1.96326842e+00  1.47441956e-01\n",
            "   9.21515213e-01]\n",
            " [-7.52772653e-01  1.37023758e+00  6.88330724e-01  1.47441956e-01\n",
            "  -1.26591989e+00]\n",
            " [-7.52772653e-01 -7.29800449e-01  1.64453400e+00  1.47441956e-01\n",
            "   6.09024484e-01]\n",
            " [-7.52772653e-01 -7.29800449e-01  4.51314381e+00  1.47441956e-01\n",
            "   4.65411724e-02]\n",
            " [ 1.32842233e+00  1.37023758e+00 -2.67872548e-01  1.47441956e-01\n",
            "  -6.40938431e-01]\n",
            " [-7.52772653e-01  1.37023758e+00 -9.05341395e-01  1.47441956e-01\n",
            "  -8.07600153e-01]\n",
            " [-7.52772653e-01 -7.29800449e-01  1.96326842e+00  1.47441956e-01\n",
            "  -3.90945848e-01]\n",
            " [ 1.32842233e+00  1.37023758e+00 -2.67872548e-01 -6.78232998e+00\n",
            "   1.00484607e+00]\n",
            " [ 1.32842233e+00 -7.29800449e-01 -9.05341395e-01  1.47441956e-01\n",
            "   8.82066029e-02]\n",
            " [-7.52772653e-01 -7.29800449e-01 -5.86606971e-01  1.47441956e-01\n",
            "  -3.90945848e-01]\n",
            " [-7.52772653e-01  1.37023758e+00  3.69596300e-01  1.47441956e-01\n",
            "  -2.03451411e-01]\n",
            " [ 1.32842233e+00 -7.29800449e-01 -5.86606971e-01  1.47441956e-01\n",
            "   4.00697332e-01]\n",
            " [-7.52772653e-01 -7.29800449e-01 -2.67872548e-01  1.47441956e-01\n",
            "   1.25483866e+00]\n",
            " [-7.52772653e-01  1.37023758e+00 -5.86606971e-01  1.47441956e-01\n",
            "   4.63195478e-01]\n",
            " [-7.52772653e-01 -7.29800449e-01 -2.67872548e-01  1.47441956e-01\n",
            "  -3.67896887e-02]\n",
            " [ 1.32842233e+00  1.37023758e+00 -5.86606971e-01  1.47441956e-01\n",
            "   1.54649667e+00]\n",
            " [ 1.32842233e+00 -7.29800449e-01 -9.05341395e-01  1.47441956e-01\n",
            "   1.48399853e+00]\n",
            " [-7.52772653e-01 -7.29800449e-01  5.08618761e-02  1.47441956e-01\n",
            "   9.84013359e-01]\n",
            " [ 1.32842233e+00 -7.29800449e-01 -5.86606971e-01  1.47441956e-01\n",
            "  -1.09925817e+00]\n",
            " [ 1.32842233e+00 -7.29800449e-01  1.00706515e+00  1.47441956e-01\n",
            "   1.83815468e+00]\n",
            " [-7.52772653e-01  1.37023758e+00 -2.67872548e-01  1.47441956e-01\n",
            "  -1.40953265e-01]\n",
            " [-7.52772653e-01  1.37023758e+00  5.08618761e-02  1.47441956e-01\n",
            "   5.67359054e-01]\n",
            " [-7.52772653e-01  1.37023758e+00 -2.67872548e-01  1.47441956e-01\n",
            "  -8.90931014e-01]\n",
            " [ 1.32842233e+00 -7.29800449e-01  6.88330724e-01  1.47441956e-01\n",
            "   2.54868325e-01]\n",
            " [-7.52772653e-01  1.37023758e+00  3.69596300e-01  1.47441956e-01\n",
            "  -5.36774855e-01]\n",
            " [-7.52772653e-01 -7.29800449e-01  3.69596300e-01  1.47441956e-01\n",
            "   1.21317323e+00]\n",
            " [-7.52772653e-01 -7.29800449e-01  1.32579957e+00  1.47441956e-01\n",
            "  -4.95109424e-01]\n",
            " [ 1.32842233e+00 -7.29800449e-01 -2.67872548e-01  1.47441956e-01\n",
            "   2.13202894e-01]\n",
            " [-7.52772653e-01  1.37023758e+00  3.69596300e-01  1.47441956e-01\n",
            "   4.65411724e-02]]\n"
          ]
        }
      ]
    },
    {
      "cell_type": "markdown",
      "source": [
        "Modeling Menggunakan KNN"
      ],
      "metadata": {
        "id": "19Azx5sRgt7q"
      }
    },
    {
      "cell_type": "code",
      "source": [
        "from sklearn.neighbors import KNeighborsClassifier\n",
        "classifier = KNeighborsClassifier(n_neighbors = 5, metric = 'manhattan', p = 1)\n",
        "classifier.fit(x_train, y_train)"
      ],
      "metadata": {
        "colab": {
          "base_uri": "https://localhost:8080/",
          "height": 75
        },
        "id": "FfYSaHtmxOkh",
        "outputId": "a0f9d049-7694-41cb-cb11-c90d14484cbb"
      },
      "execution_count": null,
      "outputs": [
        {
          "output_type": "execute_result",
          "data": {
            "text/plain": [
              "KNeighborsClassifier(metric='manhattan', p=1)"
            ],
            "text/html": [
              "<style>#sk-container-id-1 {color: black;background-color: white;}#sk-container-id-1 pre{padding: 0;}#sk-container-id-1 div.sk-toggleable {background-color: white;}#sk-container-id-1 label.sk-toggleable__label {cursor: pointer;display: block;width: 100%;margin-bottom: 0;padding: 0.3em;box-sizing: border-box;text-align: center;}#sk-container-id-1 label.sk-toggleable__label-arrow:before {content: \"▸\";float: left;margin-right: 0.25em;color: #696969;}#sk-container-id-1 label.sk-toggleable__label-arrow:hover:before {color: black;}#sk-container-id-1 div.sk-estimator:hover label.sk-toggleable__label-arrow:before {color: black;}#sk-container-id-1 div.sk-toggleable__content {max-height: 0;max-width: 0;overflow: hidden;text-align: left;background-color: #f0f8ff;}#sk-container-id-1 div.sk-toggleable__content pre {margin: 0.2em;color: black;border-radius: 0.25em;background-color: #f0f8ff;}#sk-container-id-1 input.sk-toggleable__control:checked~div.sk-toggleable__content {max-height: 200px;max-width: 100%;overflow: auto;}#sk-container-id-1 input.sk-toggleable__control:checked~label.sk-toggleable__label-arrow:before {content: \"▾\";}#sk-container-id-1 div.sk-estimator input.sk-toggleable__control:checked~label.sk-toggleable__label {background-color: #d4ebff;}#sk-container-id-1 div.sk-label input.sk-toggleable__control:checked~label.sk-toggleable__label {background-color: #d4ebff;}#sk-container-id-1 input.sk-hidden--visually {border: 0;clip: rect(1px 1px 1px 1px);clip: rect(1px, 1px, 1px, 1px);height: 1px;margin: -1px;overflow: hidden;padding: 0;position: absolute;width: 1px;}#sk-container-id-1 div.sk-estimator {font-family: monospace;background-color: #f0f8ff;border: 1px dotted black;border-radius: 0.25em;box-sizing: border-box;margin-bottom: 0.5em;}#sk-container-id-1 div.sk-estimator:hover {background-color: #d4ebff;}#sk-container-id-1 div.sk-parallel-item::after {content: \"\";width: 100%;border-bottom: 1px solid gray;flex-grow: 1;}#sk-container-id-1 div.sk-label:hover label.sk-toggleable__label {background-color: #d4ebff;}#sk-container-id-1 div.sk-serial::before {content: \"\";position: absolute;border-left: 1px solid gray;box-sizing: border-box;top: 0;bottom: 0;left: 50%;z-index: 0;}#sk-container-id-1 div.sk-serial {display: flex;flex-direction: column;align-items: center;background-color: white;padding-right: 0.2em;padding-left: 0.2em;position: relative;}#sk-container-id-1 div.sk-item {position: relative;z-index: 1;}#sk-container-id-1 div.sk-parallel {display: flex;align-items: stretch;justify-content: center;background-color: white;position: relative;}#sk-container-id-1 div.sk-item::before, #sk-container-id-1 div.sk-parallel-item::before {content: \"\";position: absolute;border-left: 1px solid gray;box-sizing: border-box;top: 0;bottom: 0;left: 50%;z-index: -1;}#sk-container-id-1 div.sk-parallel-item {display: flex;flex-direction: column;z-index: 1;position: relative;background-color: white;}#sk-container-id-1 div.sk-parallel-item:first-child::after {align-self: flex-end;width: 50%;}#sk-container-id-1 div.sk-parallel-item:last-child::after {align-self: flex-start;width: 50%;}#sk-container-id-1 div.sk-parallel-item:only-child::after {width: 0;}#sk-container-id-1 div.sk-dashed-wrapped {border: 1px dashed gray;margin: 0 0.4em 0.5em 0.4em;box-sizing: border-box;padding-bottom: 0.4em;background-color: white;}#sk-container-id-1 div.sk-label label {font-family: monospace;font-weight: bold;display: inline-block;line-height: 1.2em;}#sk-container-id-1 div.sk-label-container {text-align: center;}#sk-container-id-1 div.sk-container {/* jupyter's `normalize.less` sets `[hidden] { display: none; }` but bootstrap.min.css set `[hidden] { display: none !important; }` so we also need the `!important` here to be able to override the default hidden behavior on the sphinx rendered scikit-learn.org. See: https://github.com/scikit-learn/scikit-learn/issues/21755 */display: inline-block !important;position: relative;}#sk-container-id-1 div.sk-text-repr-fallback {display: none;}</style><div id=\"sk-container-id-1\" class=\"sk-top-container\"><div class=\"sk-text-repr-fallback\"><pre>KNeighborsClassifier(metric=&#x27;manhattan&#x27;, p=1)</pre><b>In a Jupyter environment, please rerun this cell to show the HTML representation or trust the notebook. <br />On GitHub, the HTML representation is unable to render, please try loading this page with nbviewer.org.</b></div><div class=\"sk-container\" hidden><div class=\"sk-item\"><div class=\"sk-estimator sk-toggleable\"><input class=\"sk-toggleable__control sk-hidden--visually\" id=\"sk-estimator-id-1\" type=\"checkbox\" checked><label for=\"sk-estimator-id-1\" class=\"sk-toggleable__label sk-toggleable__label-arrow\">KNeighborsClassifier</label><div class=\"sk-toggleable__content\"><pre>KNeighborsClassifier(metric=&#x27;manhattan&#x27;, p=1)</pre></div></div></div></div></div>"
            ]
          },
          "metadata": {},
          "execution_count": 35
        }
      ]
    },
    {
      "cell_type": "markdown",
      "source": [
        "Tentukan Prediksinya"
      ],
      "metadata": {
        "id": "4GSbTLPag6vS"
      }
    },
    {
      "cell_type": "code",
      "source": [
        "y_pred = classifier.predict(x_test)"
      ],
      "metadata": {
        "id": "gKfU1hd8xpTk"
      },
      "execution_count": null,
      "outputs": []
    },
    {
      "cell_type": "markdown",
      "source": [
        "menghitung validasinya menggunakan konfision metrix "
      ],
      "metadata": {
        "id": "9k0Cd_tQhEmj"
      }
    },
    {
      "cell_type": "code",
      "source": [
        "from sklearn.metrics import confusion_matrix\n",
        "cm = confusion_matrix(y_test, y_pred)\n",
        "print(cm)"
      ],
      "metadata": {
        "colab": {
          "base_uri": "https://localhost:8080/"
        },
        "id": "bVdjCgMixrtF",
        "outputId": "50c216d8-1080-4d78-85b8-397f5ff4bfe3"
      },
      "execution_count": null,
      "outputs": [
        {
          "output_type": "stream",
          "name": "stdout",
          "text": [
            "[[45  7]\n",
            " [ 6 36]]\n"
          ]
        }
      ]
    },
    {
      "cell_type": "code",
      "source": [
        "import seaborn as sns\n",
        "import matplotlib.pyplot as plt\n",
        "f, ax = plt.subplots(figsize=(8,5))\n",
        "sns.heatmap(confusion_matrix(y_test, y_pred), annot=True, fmt=\".0f\", ax=ax)\n",
        "plt.xlabel(\"y_pred\")\n",
        "plt.ylabel(\"y_true\")\n",
        "plt.show()"
      ],
      "metadata": {
        "colab": {
          "base_uri": "https://localhost:8080/",
          "height": 470
        },
        "id": "Xf4I7IWxxvkD",
        "outputId": "3ebdef4a-f13b-4747-d2c3-7b66f97451c0"
      },
      "execution_count": null,
      "outputs": [
        {
          "output_type": "display_data",
          "data": {
            "text/plain": [
              "<Figure size 800x500 with 2 Axes>"
            ],
            "image/png": "[encoded data removed]"
          },
          "metadata": {}
        }
      ]
    },
    {
      "cell_type": "code",
      "source": [
        "from sklearn.metrics import classification_report\n",
        "print (classification_report(y_test, y_pred))"
      ],
      "metadata": {
        "colab": {
          "base_uri": "https://localhost:8080/"
        },
        "id": "4u8qu5dqxx9y",
        "outputId": "1a5d75a5-ac2e-436c-d135-537c3681c8f4"
      },
      "execution_count": null,
      "outputs": [
        {
          "output_type": "stream",
          "name": "stdout",
          "text": [
            "              precision    recall  f1-score   support\n",
            "\n",
            "           0       0.88      0.87      0.87        52\n",
            "           1       0.84      0.86      0.85        42\n",
            "\n",
            "    accuracy                           0.86        94\n",
            "   macro avg       0.86      0.86      0.86        94\n",
            "weighted avg       0.86      0.86      0.86        94\n",
            "\n"
          ]
        }
      ]
    }
  ]
}